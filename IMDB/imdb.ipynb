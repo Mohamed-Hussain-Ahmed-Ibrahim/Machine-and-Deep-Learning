{
 "cells": [
  {
   "cell_type": "code",
   "execution_count": 1,
   "id": "1db0be95",
   "metadata": {},
   "outputs": [
    {
     "name": "stdout",
     "output_type": "stream",
     "text": [
      "Downloading data from https://storage.googleapis.com/tensorflow/tf-keras-datasets/imdb.npz\n",
      "17465344/17464789 [==============================] - 6s 0us/step\n",
      "17473536/17464789 [==============================] - 6s 0us/step\n"
     ]
    }
   ],
   "source": [
    "from keras.datasets import imdb\n",
    "(train_data,train_labels),(test_data,test_labels) = imdb.load_data(num_words = 10000)"
   ]
  },
  {
   "cell_type": "code",
   "execution_count": 3,
   "id": "7062cc55",
   "metadata": {},
   "outputs": [],
   "source": [
    "from keras import models,layers\n",
    "import tensorflow as tf"
   ]
  },
  {
   "cell_type": "code",
   "execution_count": 8,
   "id": "72767a56",
   "metadata": {},
   "outputs": [],
   "source": [
    "import numpy as np \n",
    "def vectorize_sequence(sequence,dimension = 10000):\n",
    "    results = np.zeros((len(sequence),dimension))\n",
    "    for i ,sequence in enumerate(sequence):\n",
    "        results[i,sequence] = 1\n",
    "    return results\n",
    "x_train = vectorize_sequence(train_data)\n",
    "x_test = vectorize_sequence(test_data)\n",
    "y_train = np.asarray(train_labels).astype('float32')\n",
    "y_test = np.asarray(test_labels).astype('float32')"
   ]
  },
  {
   "cell_type": "code",
   "execution_count": 9,
   "id": "baf563e9",
   "metadata": {},
   "outputs": [],
   "source": [
    "x_val = x_train[:10000]\n",
    "partial_x_train = x_train[10000:]\n",
    "y_val = y_train[:10000]\n",
    "partial_y_train = y_train[10000:]"
   ]
  },
  {
   "cell_type": "code",
   "execution_count": 10,
   "id": "c2216bbf",
   "metadata": {},
   "outputs": [],
   "source": [
    "model = models.Sequential()\n",
    "model.add(layers.Dense(16,activation = 'relu',input_shape = (10000,)))\n",
    "model.add(layers.Dense(16,activation = 'relu'))\n",
    "model.add(layers.Dense(1,activation = 'sigmoid'))"
   ]
  },
  {
   "cell_type": "code",
   "execution_count": 11,
   "id": "d5863662",
   "metadata": {},
   "outputs": [],
   "source": [
    "from keras import metrics \n",
    "from keras import losses\n",
    "model.compile(optimizer = tf.keras.optimizers.RMSprop(learning_rate = 0.01),loss = losses.binary_crossentropy,metrics = [metrics.binary_accuracy])"
   ]
  },
  {
   "cell_type": "code",
   "execution_count": 12,
   "id": "c71263fa",
   "metadata": {},
   "outputs": [
    {
     "name": "stdout",
     "output_type": "stream",
     "text": [
      "Epoch 1/20\n",
      "30/30 [==============================] - 1s 25ms/step - loss: 0.5778 - binary_accuracy: 0.7581 - val_loss: 0.3083 - val_binary_accuracy: 0.8792\n",
      "Epoch 2/20\n",
      "30/30 [==============================] - 0s 14ms/step - loss: 0.2790 - binary_accuracy: 0.8887 - val_loss: 0.2745 - val_binary_accuracy: 0.8904\n",
      "Epoch 3/20\n",
      "30/30 [==============================] - 0s 14ms/step - loss: 0.2032 - binary_accuracy: 0.9163 - val_loss: 0.3002 - val_binary_accuracy: 0.8725\n",
      "Epoch 4/20\n",
      "30/30 [==============================] - 0s 15ms/step - loss: 0.1485 - binary_accuracy: 0.9415 - val_loss: 0.3324 - val_binary_accuracy: 0.8752\n",
      "Epoch 5/20\n",
      "30/30 [==============================] - 0s 16ms/step - loss: 0.1308 - binary_accuracy: 0.9456 - val_loss: 0.3164 - val_binary_accuracy: 0.8813\n",
      "Epoch 6/20\n",
      "30/30 [==============================] - 0s 16ms/step - loss: 0.0897 - binary_accuracy: 0.9663 - val_loss: 0.3770 - val_binary_accuracy: 0.8820\n",
      "Epoch 7/20\n",
      "30/30 [==============================] - 0s 14ms/step - loss: 0.0917 - binary_accuracy: 0.9724 - val_loss: 0.4493 - val_binary_accuracy: 0.8771\n",
      "Epoch 8/20\n",
      "30/30 [==============================] - 0s 15ms/step - loss: 0.0595 - binary_accuracy: 0.9794 - val_loss: 0.5153 - val_binary_accuracy: 0.8759\n",
      "Epoch 9/20\n",
      "30/30 [==============================] - 0s 15ms/step - loss: 0.0714 - binary_accuracy: 0.9816 - val_loss: 0.5020 - val_binary_accuracy: 0.8757\n",
      "Epoch 10/20\n",
      "30/30 [==============================] - 0s 15ms/step - loss: 0.0103 - binary_accuracy: 0.9975 - val_loss: 0.7065 - val_binary_accuracy: 0.8737\n",
      "Epoch 11/20\n",
      "30/30 [==============================] - 0s 14ms/step - loss: 0.0850 - binary_accuracy: 0.9855 - val_loss: 0.6766 - val_binary_accuracy: 0.8721\n",
      "Epoch 12/20\n",
      "30/30 [==============================] - 0s 15ms/step - loss: 0.0037 - binary_accuracy: 0.9996 - val_loss: 0.8436 - val_binary_accuracy: 0.8744\n",
      "Epoch 13/20\n",
      "30/30 [==============================] - 0s 15ms/step - loss: 0.0013 - binary_accuracy: 0.9997 - val_loss: 0.9937 - val_binary_accuracy: 0.8731\n",
      "Epoch 14/20\n",
      "30/30 [==============================] - 0s 16ms/step - loss: 5.8945e-04 - binary_accuracy: 0.9997 - val_loss: 1.2566 - val_binary_accuracy: 0.8714\n",
      "Epoch 15/20\n",
      "30/30 [==============================] - 0s 14ms/step - loss: 0.1466 - binary_accuracy: 0.9843 - val_loss: 1.0072 - val_binary_accuracy: 0.8702\n",
      "Epoch 16/20\n",
      "30/30 [==============================] - 0s 15ms/step - loss: 5.7208e-04 - binary_accuracy: 0.9999 - val_loss: 1.1404 - val_binary_accuracy: 0.8701\n",
      "Epoch 17/20\n",
      "30/30 [==============================] - 0s 16ms/step - loss: 2.3005e-04 - binary_accuracy: 1.0000 - val_loss: 1.2598 - val_binary_accuracy: 0.8710\n",
      "Epoch 18/20\n",
      "30/30 [==============================] - 0s 15ms/step - loss: 1.3066e-04 - binary_accuracy: 0.9999 - val_loss: 1.4482 - val_binary_accuracy: 0.8722\n",
      "Epoch 19/20\n",
      "30/30 [==============================] - 0s 15ms/step - loss: 6.1914e-05 - binary_accuracy: 1.0000 - val_loss: 1.6485 - val_binary_accuracy: 0.8709\n",
      "Epoch 20/20\n",
      "30/30 [==============================] - 0s 15ms/step - loss: 1.0062e-05 - binary_accuracy: 1.0000 - val_loss: 1.8483 - val_binary_accuracy: 0.8708\n"
     ]
    }
   ],
   "source": [
    "history = model.fit(partial_x_train,partial_y_train,epochs = 20,batch_size = 512,validation_data = (x_val,y_val))"
   ]
  },
  {
   "cell_type": "code",
   "execution_count": 13,
   "id": "cdecbac6",
   "metadata": {},
   "outputs": [
    {
     "data": {
      "text/plain": [
       "dict_keys(['loss', 'binary_accuracy', 'val_loss', 'val_binary_accuracy'])"
      ]
     },
     "execution_count": 13,
     "metadata": {},
     "output_type": "execute_result"
    }
   ],
   "source": [
    "history_dict = history.history\n",
    "history_dict.keys()"
   ]
  },
  {
   "cell_type": "code",
   "execution_count": 15,
   "id": "e39fa639",
   "metadata": {},
   "outputs": [
    {
     "data": {
      "image/png": "[encoded data removed]",
      "text/plain": [
       "<Figure size 432x288 with 1 Axes>"
      ]
     },
     "metadata": {
      "needs_background": "light"
     },
     "output_type": "display_data"
    }
   ],
   "source": [
    "import matplotlib.pyplot as plt\n",
    "loss_values = history_dict['loss']\n",
    "val_loss_values = history_dict['val_loss']\n",
    "acc = history_dict['binary_accuracy']\n",
    "epochs = range(1,len(acc)+1)\n",
    "plt.plot(epochs,loss_values,'bo',label = 'training loss')\n",
    "plt.plot(epochs,val_loss_values,'b',label = 'validation loss')\n",
    "plt.title('training and validation loss')\n",
    "plt.xlabel('Epochs')\n",
    "plt.ylabel('Loss')\n",
    "plt.legend()\n",
    "plt.show()"
   ]
  },
  {
   "cell_type": "code",
   "execution_count": null,
   "id": "d4dfe2e1",
   "metadata": {},
   "outputs": [],
   "source": []
  }
 ],
 "metadata": {
  "kernelspec": {
   "display_name": "Python 3 (ipykernel)",
   "language": "python",
   "name": "python3"
  },
  "language_info": {
   "codemirror_mode": {
    "name": "ipython",
    "version": 3
   },
   "file_extension": ".py",
   "mimetype": "text/x-python",
   "name": "python",
   "nbconvert_exporter": "python",
   "pygments_lexer": "ipython3",
   "version": "3.9.7"
  }
 },
 "nbformat": 4,
 "nbformat_minor": 5
}
